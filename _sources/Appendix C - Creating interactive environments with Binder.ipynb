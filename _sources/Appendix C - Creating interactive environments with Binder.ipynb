{
 "cells": [
  {
   "cell_type": "markdown",
   "id": "f8cfee41-08ee-4999-9141-9d0956220eea",
   "metadata": {},
   "source": [
    "# Appendix C: Creating interactive environments through Binder"
   ]
  },
  {
   "cell_type": "code",
   "execution_count": null,
   "id": "07af005a-33c6-4134-96a4-497fd6547470",
   "metadata": {},
   "outputs": [],
   "source": []
  }
 ],
 "metadata": {
  "kernelspec": {
   "display_name": "Python 3 (ipykernel)",
   "language": "python",
   "name": "python3"
  },
  "language_info": {
   "codemirror_mode": {
    "name": "ipython",
    "version": 3
   },
   "file_extension": ".py",
   "mimetype": "text/x-python",
   "name": "python",
   "nbconvert_exporter": "python",
   "pygments_lexer": "ipython3",
   "version": "3.9.12"
  }
 },
 "nbformat": 4,
 "nbformat_minor": 5
}
