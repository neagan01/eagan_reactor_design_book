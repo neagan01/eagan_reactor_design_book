{
 "cells": [
  {
   "cell_type": "markdown",
   "metadata": {},
   "source": [
    "# Appendix A: Code templates\n",
    "\n",
    "Here templates are provided for various codes useful in reactor design:\n",
    "\n",
    "1. Non-linear system of equations solver\n",
    "2. Ordinary differential equations system solver"
   ]
  },
  {
   "cell_type": "markdown",
   "metadata": {},
   "source": [
    "## 1. Non-linear algebraic equations system solver"
   ]
  },
  {
   "cell_type": "code",
   "execution_count": 1,
   "metadata": {},
   "outputs": [
    {
     "name": "stdout",
     "output_type": "stream",
     "text": [
      "Zerocheck:  [0.0, 0.0]\n"
     ]
    },
    {
     "data": {
      "text/html": [
       "<div>\n",
       "<style scoped>\n",
       "    .dataframe tbody tr th:only-of-type {\n",
       "        vertical-align: middle;\n",
       "    }\n",
       "\n",
       "    .dataframe tbody tr th {\n",
       "        vertical-align: top;\n",
       "    }\n",
       "\n",
       "    .dataframe thead th {\n",
       "        text-align: right;\n",
       "    }\n",
       "</style>\n",
       "<table border=\"1\" class=\"dataframe\">\n",
       "  <thead>\n",
       "    <tr style=\"text-align: right;\">\n",
       "      <th></th>\n",
       "      <th>Variables</th>\n",
       "      <th>Values</th>\n",
       "    </tr>\n",
       "  </thead>\n",
       "  <tbody>\n",
       "    <tr>\n",
       "      <th>0</th>\n",
       "      <td>Var 1</td>\n",
       "      <td>0.358680</td>\n",
       "    </tr>\n",
       "    <tr>\n",
       "      <th>1</th>\n",
       "      <td>Var 2</td>\n",
       "      <td>0.310113</td>\n",
       "    </tr>\n",
       "  </tbody>\n",
       "</table>\n",
       "</div>"
      ],
      "text/plain": [
       "  Variables    Values\n",
       "0     Var 1  0.358680\n",
       "1     Var 2  0.310113"
      ]
     },
     "execution_count": 1,
     "metadata": {},
     "output_type": "execute_result"
    }
   ],
   "source": [
    "########## Non-linear system of equations solver ##########\n",
    "\n",
    "###### Import packages\n",
    "\n",
    "import numpy as np\n",
    "import pandas as pd\n",
    "import scipy.optimize as opt\n",
    "\n",
    "###### Specify known values\n",
    "\n",
    "### Constants\n",
    "Kc  = 0.2      # mol / L\n",
    "yA_0 = 1.0     # mol / mol\n",
    "P   = 10.0      # atm\n",
    "R   = 0.082    # atm L / mol K\n",
    "T   = 340      # K\n",
    "\n",
    "###### Define system of equations\n",
    "\n",
    "def alg(U):\n",
    "    \n",
    "    ### Redefine inputs\n",
    "    CA0 = U[0]\n",
    "    Xe = U[1]\n",
    "    \n",
    "    ### Define equations\n",
    "    setzero = np.zeros(len(U))\n",
    "    setzero[0] = CA0-yA_0*P/R/T\n",
    "    setzero[1] = Xe - (Kc*(1-Xe)/(4*CA0))**0.5\n",
    "    \n",
    "    ### Reorganize list to fit required dimensions \n",
    "    setzero = np.array(setzero).tolist()\n",
    "    \n",
    "    return setzero\n",
    "\n",
    "###### Solve based on initial guesses\n",
    "\n",
    "### Initial guesses\n",
    "varguess = [0.5,0.5]\n",
    "\n",
    "### Solver\n",
    "U = opt.fsolve(alg,varguess)   # Enter function vollowed by variable guesses\n",
    "U = np.array(U)                # Convert to numpy array for convenience\n",
    "\n",
    "### Verify that solution was achieved\n",
    "zerocheck = alg(U)\n",
    "print(\"Zerocheck: \",zerocheck)\n",
    "\n",
    "### Save results in dataframe\n",
    "soln = pd.DataFrame(['Var 1','Var 2'],columns = ['Variables'])\n",
    "soln[['Values']] = pd.DataFrame(U)\n",
    "soln"
   ]
  },
  {
   "cell_type": "markdown",
   "metadata": {},
   "source": [
    "## 2. Ordinary differential equations system solver"
   ]
  },
  {
   "cell_type": "code",
   "execution_count": 13,
   "metadata": {},
   "outputs": [
    {
     "name": "stdout",
     "output_type": "stream",
     "text": [
      "     Time (s)  A (units)  B (units)\n",
      "0         0.0  10.000000   0.000000\n",
      "1         0.1  10.036696   0.063304\n",
      "2         0.2  10.073277   0.126723\n",
      "3         0.3  10.109743   0.190257\n",
      "4         0.4  10.146094   0.253906\n",
      "..        ...        ...        ...\n",
      "96        9.6  13.064312   6.535688\n",
      "97        9.7  13.091984   6.608016\n",
      "98        9.8  13.119581   6.680419\n",
      "99        9.9  13.147101   6.752899\n",
      "100      10.0  13.174545   6.825455\n",
      "\n",
      "[101 rows x 3 columns]\n"
     ]
    },
    {
     "data": {
      "image/png": "[encoded data removed]",
      "text/plain": [
       "<Figure size 432x288 with 2 Axes>"
      ]
     },
     "metadata": {
      "needs_background": "light"
     },
     "output_type": "display_data"
    }
   ],
   "source": [
    "########## Ordinary differential equations system solver ##########\n",
    "\n",
    "###### Import packages\n",
    "\n",
    "import numpy as np\n",
    "import matplotlib.pyplot as plt\n",
    "from scipy.integrate import solve_ivp\n",
    "import pandas as pd\n",
    "\n",
    "###### Specify known values\n",
    "\n",
    "c1 = 1\n",
    "c2 = 0.2\n",
    "\n",
    "###### Set initial conditions of independent variables U\n",
    "\n",
    "U0 = [10,0] # In this example U0[0] is variable A and U0[1] is variable B\n",
    "\n",
    "###### Determine integration limits via independent variable array tlim\n",
    "tlim = (0,10)\n",
    "tlist = np.linspace(tlim[0],tlim[1],num=101) # Not essential--specifies intervals along tlim to store U values\n",
    "\n",
    "###### Define differential equations along with additional required calculations\n",
    "\n",
    "def diff(t,U):\n",
    "    \n",
    "    # Assign values to inputs if desired\n",
    "    A = U[0]\n",
    "    B = U[1]\n",
    "    \n",
    "    # Define equations\n",
    "    dU=np.zeros(len(U))\n",
    "    dU[0] = c1 - c2 * A**0.5\n",
    "    dU[1] = c2 * A**0.5\n",
    "    \n",
    "    # Reorganize list to fit required dimensions \n",
    "    dU = np.array(dU).tolist()\n",
    "    \n",
    "    return dU\n",
    "\n",
    "###### Integrate\n",
    "\n",
    "soln = solve_ivp(diff,tlim,U0,t_eval=tlist)\n",
    "\n",
    "### Obtain output dependent variable array U and independent variable array t\n",
    "\n",
    "U = soln.y.T # T makes transpose; not essential but easy for input to dataframe\n",
    "t = soln.t\n",
    "\n",
    "A = U[:,0] # Define individual variables within U if desired\n",
    "B = U[:,1]\n",
    "\n",
    "### Define pandas dataframe with outputs\n",
    "\n",
    "soln_df = pd.DataFrame(t,columns = ['Time (s)'])\n",
    "soln_df[['A (units)','B (units)']] = pd.DataFrame(U)\n",
    "\n",
    "### Save dataframe to a csv\n",
    "soln_df.to_csv('ODE_solver_output.csv')\n",
    "\n",
    "### Report dataframe\n",
    "print(soln_df)\n",
    "\n",
    "### Plotting the output with subplots\n",
    "fig = plt.figure()\n",
    "ax1 = plt.subplot(221) # A and B vs time\n",
    "ax2 = plt.subplot(222) # A vs B\n",
    "\n",
    "ax1.plot(t,A,'--b')\n",
    "ax1.plot(t,B,':g')\n",
    "ax1.set_xlabel('Time (s)')\n",
    "ax1.set_ylabel('A or B (units)')\n",
    "#ax1.set_xlim([0,13])\n",
    "#ax1.set_ylim([0,5])\n",
    "ax1.legend(['A','B'])\n",
    "\n",
    "ax2.plot(B,A,'-.k')\n",
    "ax2.set_xlabel('B (units)')\n",
    "ax2.set_ylabel('A (units)')\n",
    "\n",
    "fig.tight_layout()\n",
    "plt.show()"
   ]
  },
  {
   "cell_type": "code",
   "execution_count": null,
   "metadata": {},
   "outputs": [],
   "source": []
  }
 ],
 "metadata": {
  "kernelspec": {
   "display_name": "Python 3 (ipykernel)",
   "language": "python",
   "name": "python3"
  },
  "language_info": {
   "codemirror_mode": {
    "name": "ipython",
    "version": 3
   },
   "file_extension": ".py",
   "mimetype": "text/x-python",
   "name": "python",
   "nbconvert_exporter": "python",
   "pygments_lexer": "ipython3",
   "version": "3.9.12"
  },
  "varInspector": {
   "cols": {
    "lenName": 16,
    "lenType": 16,
    "lenVar": 40
   },
   "kernels_config": {
    "python": {
     "delete_cmd_postfix": "",
     "delete_cmd_prefix": "del ",
     "library": "var_list.py",
     "varRefreshCmd": "print(var_dic_list())"
    },
    "r": {
     "delete_cmd_postfix": ") ",
     "delete_cmd_prefix": "rm(",
     "library": "var_list.r",
     "varRefreshCmd": "cat(var_dic_list()) "
    }
   },
   "types_to_exclude": [
    "module",
    "function",
    "builtin_function_or_method",
    "instance",
    "_Feature"
   ],
   "window_display": false
  }
 },
 "nbformat": 4,
 "nbformat_minor": 4
}
