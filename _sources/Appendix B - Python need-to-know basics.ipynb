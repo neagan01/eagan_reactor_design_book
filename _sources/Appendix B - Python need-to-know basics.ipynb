{
 "cells": [
  {
   "cell_type": "markdown",
   "id": "83d9c3af-1b2b-4a76-b79b-c1d643b7532b",
   "metadata": {},
   "source": [
    "# Appendix B Python need-to-know basics"
   ]
  },
  {
   "cell_type": "markdown",
   "id": "c35e4997-2564-45e8-9794-63bb49a53000",
   "metadata": {},
   "source": [
    "*Need just some basic understanding to use Python for simple chemical engineering problem? Here's all you really \"need\" to know.\n",
    "\n",
    "## What is Python?\n",
    "\n",
    "Python is a high-level computing language--a way of executing and interpreting commands--that prioritizes human readibility. It does not on its own include much \"functionality\" since it is simply a \"language.\" In order to use Python, you will need \"packages\" which consist of codes written in Python and other languages that allow you to do more complex work such as high-level math, plotting, data sorting, etc.\n",
    "\n",
    "## How is this different from MATLAB?\n",
    "\n",
    "Many in chemical engineering who are new to Python are likely transitioning from MATLAB, the main software originally introduced throughout the curriculum. MATLAB is different from Pythong in a few key ways. Not only is it a language (based on C/C++), it is also a full program that includes a wide array of packages already downloaded. Additionally, MATLAB includes its own interface. Python, on the other hand, is used with a variety of \"integrated development environments,\" or IDEs. Popular choices include Spyder (which has a fairly MATLAB-esque feel), Jupyter Notebooks (which allows for codes to be provided alongside outputs and interchanged with long text blocks), JupyterLab (an evolution of Jupyter Notebook which brings multiple utilities together), PyCharm, IDLE, Atom, and Thonny.\n",
    "\n",
    "## What are some pros and cons of Python compared to MATLAB?\n",
    "\n",
    "The simplest benefit to Python is that it is free, while MATLAB requires a license which can cost as much as $2,000 or more unless you have lower-cost access through a university.\n",
    "\n",
    "One key difference that has both pros and cons is that Python is not really \"built\" for anything other than being \"intuitive.\" MATLAB, on the other hand, is built deliberately for computational work, and in many ways it is \"optimized\" for chemical engineering work. Everything you need is available and meant to work when downloaded. Python, on the other hand, is commonly used for not only computation/data science but also for software development, website creation, design, etc. The fact that Python is \"open-source\" can on one hand make it difficult to find the exact solution to your problem, but on the other hand allows for a large community to come up with solutions and easily share them on forums such as Stack Overflow.\n",
    "\n",
    "The major \"pro\" for Python that comes from these facts is its adaptability. Those who learn Python can use it anywhere, while those who use MATLAB have to hope they can find a license (or pay for one) to use it. Furthermore, those who learn how to work with Python can apply their knowledge to problems outside the traditional chemical engineering scope. Such skills could enhance communication, foster collaboration, or facilitate a role transition.\n",
    "\n",
    "All of these benefits are very clearly understood by the broader community. The TIOBE organization specializes in evaluating software quality and as of 2022 ranked Python the #1 programming language while MATLAB is listed at only #24 (https://www.tiobe.com/tiobe-index/). Other languages of note inlcude C, Java, and C++.\n",
    "\n",
    "## Do I need to care about the Python version?\n",
    "\n",
    "Yes. While some syntax is the same between different versions, some can vary drastically. A slightly older Python 2 code will likely not function the same way if run in Python 3.\n",
    "\n",
    "Fortunately, there are ways to simulate a Python 2 environment if you want to use a Python 2 code.\n",
    "\n",
    "## Where should I start?\n",
    "\n",
    "A good place to start is Anaconda.com. Anaconda is a \"distribution\" of Python meaning that it includes the code, packages, IDEs, and various utilities to manage packages. The installation is free.\n",
    "\n",
    "Once you download Anaconda, it is best to start with some of their simple tutorials. One will be added here eventually. If you are coming from MATLAB, it may be best to start with Spyder. My preference is JupyterLab (which I'm actively writing this with).\n",
    "\n",
    "**Important note:** there are likely multiple different Python environments on your computer between one the one Anaconda installs, one you or another may have installed, or ones that computer programs create for their own use. To access Python in a command line manner and access the packages you downloaded with Anaconda, you **need to use the Anaconda prompt, not the normal command prompt.** The regular command prompt does not know about the packages you downloaded in Anaconda and will not work correctly.\n",
    "\n",
    "## What packages do I absolutely need?\n",
    "\n",
    "Here are some essentials for chemical engineering work:\n",
    "\n",
    "- NumPy: Numerical Python. Arrays, matrices, numerical operations.\n",
    "- SciPy: Scientific algorithms like derivatives, optimization, etc.\n",
    "- MatPlotLib: The most basic plotting package.\n",
    "\n",
    "Here are some others that can be very helpful:\n",
    "\n",
    "- Pandas: Data structures that allow for data to be easily sorted, manipulated, imported, and exported.\n",
    "\n",
    "## Which Python programs will I use most when translating from MATLAB?\n",
    "\n",
    "| MATLAB | Python |\n",
    "| :--- |:---|\n",
    "| matrices | numpy.array |\n",
    "| plot | matplotlib.pyplot |\n",
    "| function | def |\n",
    "| ode45 | scipy.integrate.solve_ivp(...method='RK45')|\n",
    "| fsolve | scipy.optimize.fsolve |\n",
    "| nlinfit | scipy.optimize.curve_fit |\n",
    "| fprintf | print |"
   ]
  },
  {
   "cell_type": "code",
   "execution_count": null,
   "id": "8f5ae6da-d64e-4b1a-bf8d-0f3af2d93b3c",
   "metadata": {},
   "outputs": [],
   "source": []
  }
 ],
 "metadata": {
  "kernelspec": {
   "display_name": "Python 3 (ipykernel)",
   "language": "python",
   "name": "python3"
  },
  "language_info": {
   "codemirror_mode": {
    "name": "ipython",
    "version": 3
   },
   "file_extension": ".py",
   "mimetype": "text/x-python",
   "name": "python",
   "nbconvert_exporter": "python",
   "pygments_lexer": "ipython3",
   "version": "3.9.12"
  }
 },
 "nbformat": 4,
 "nbformat_minor": 5
}
