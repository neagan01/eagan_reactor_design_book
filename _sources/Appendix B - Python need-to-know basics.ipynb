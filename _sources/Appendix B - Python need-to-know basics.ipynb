{
 "cells": [
  {
   "cell_type": "markdown",
   "id": "83d9c3af-1b2b-4a76-b79b-c1d643b7532b",
   "metadata": {},
   "source": [
    "# Appendix B Python need-to-know basics"
   ]
  },
  {
   "cell_type": "markdown",
   "id": "c35e4997-2564-45e8-9794-63bb49a53000",
   "metadata": {},
   "source": [
    "## What is Python in the most basic sense?\n",
    "\n",
    "Python is a high-level computing language--a way of executing and interpreting commands that prioritizes human readibility. It does not on its own really include any \"functionality\" since it is just a language. Similarly \"English\" is a language, it is not a book or a speech or a movie...it is simply a language. In order to use Python, you need \"packages\" which consist of Python codes (as well as others) that let you do useful things like math, plotting, etc.\n",
    "\n",
    "itself is a programming language and in itself does not really include any programs, functions, or an interface. This is in contrast to MATLAB, which is a language based on the C/C++ languages but also"
   ]
  }
 ],
 "metadata": {
  "kernelspec": {
   "display_name": "Python 3 (ipykernel)",
   "language": "python",
   "name": "python3"
  },
  "language_info": {
   "codemirror_mode": {
    "name": "ipython",
    "version": 3
   },
   "file_extension": ".py",
   "mimetype": "text/x-python",
   "name": "python",
   "nbconvert_exporter": "python",
   "pygments_lexer": "ipython3",
   "version": "3.9.12"
  }
 },
 "nbformat": 4,
 "nbformat_minor": 5
}
