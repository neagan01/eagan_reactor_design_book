{
 "cells": [
  {
   "cell_type": "markdown",
   "id": "83d9c3af-1b2b-4a76-b79b-c1d643b7532b",
   "metadata": {},
   "source": [
    "# Appendix B Starting with Python"
   ]
  },
  {
   "cell_type": "code",
   "execution_count": null,
   "id": "bf277a5c-aa8e-4918-b920-11246eeff8f5",
   "metadata": {},
   "outputs": [],
   "source": []
  }
 ],
 "metadata": {
  "kernelspec": {
   "display_name": "Python 3 (ipykernel)",
   "language": "python",
   "name": "python3"
  },
  "language_info": {
   "codemirror_mode": {
    "name": "ipython",
    "version": 3
   },
   "file_extension": ".py",
   "mimetype": "text/x-python",
   "name": "python",
   "nbconvert_exporter": "python",
   "pygments_lexer": "ipython3",
   "version": "3.9.12"
  }
 },
 "nbformat": 4,
 "nbformat_minor": 5
}
