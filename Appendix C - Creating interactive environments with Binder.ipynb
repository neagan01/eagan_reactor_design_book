{
 "cells": [
  {
   "cell_type": "markdown",
   "id": "499a1ef4-8dbb-4850-b638-ee4db1263dfa",
   "metadata": {},
   "source": [
    "# Appendix C: Creating interactive environments through Binder"
   ]
  },
  {
   "cell_type": "markdown",
   "id": "36712700-128e-4576-98fb-64ac510d0e0c",
   "metadata": {},
   "source": [
    "## Interactive web-hosted environments\n",
    "\n",
    "To run a code, the correct environment must be available. To ensure that this is the case, an internet-hosted environment can be created and accessed by anyone with the right link. There are several options for such environments including (but not limited to):\n",
    "- Binder\n",
    "- Google Colab\n",
    "- Kaggle Kernels\n",
    "\n",
    "I could go over the pros and cons of these, but I don't feel like it right now. Instead I'll just talk about Binder because it's what I have used the most.\n",
    "\n",
    "The pros of Binder include that it's free, it has easy integration with GitHub and JupyterBooks, and it opens up your notebooks in a JupyterLab environment, making it easy to work with. The cons include the limited RAM (2 GB) and its tendency to time out in 5 minutes of inactivity. It is therefore meant primarily for active use.\n",
    "\n",
    "## Creating a Binder environment\n",
    "\n",
    "If you have not already, start by making a (free) GitHub account and download the desktop client.\n",
    "\n",
    "1. In the online version of GitHub, create a new repository. Give it a name (e.g., my_binder_environment), set it to be public,  check off \"Add a README file,\" and click, \"Create repository.\"\n",
    "\n",
    "2. In the desktop verion, clone this repository to your desktop.\n",
    "\n",
    "3. Make changes to the cloned repository on your desktop as you see fit.\n",
    "\n",
    "4. Create a document in the repository entitled \"requirements.txt\" and enter the programs you want included and (optionally) version numbers. For example: \\\n",
    "numpy==1.18.1 \\\n",
    "matplotlib==3.1.3 \\\n",
    "scipy==1.4.1 \\\n",
    "pandas==1.0.1 \n",
    "\n",
    "4. When you want changes to be pushed to the online, publically-available version, open the desktop app, press \"commit to main\" to put these in your main branch, and then press \"Push origin\" to send them online. The online repository will then be udpated.\n",
    "\n",
    "5. Go to mybinder.org to create your binder environment. Input the repository location next to where it says \"GitHub.\" This should be something like username/my_repo.\n",
    "\n",
    "6. Press \"Launch\" to create the environment. Whenever large changes are made to the repository, the first build after these changes may take a while. Subsequent access of a \"built\" environment will be substantially faster.\n",
    "\n",
    "7. Access the binder environment at the link provided, which should be something like: https://mybinder.org/v2/gh/username/my_repo/HEAD. Note that you can actually skip steps 5 and 6 by directly entering this URL, which will force Binder to create ht\n",
    "\n",
    "8. To make it easy to access this Binder directly from the GitHub repo page, consider adding the following to your README.md file:\n",
    "\n",
    "<pre>\n",
    "Click the button below to access these files in an online JupyterLab environment.\n",
    "\n",
    "[![Binder:master](https://mybinder.org/badge_logo.svg)](https://mybinder.org/v2/gh/username/my_repo/HEAD)</pre>\n",
    "\n",
    "For further details, you may start with the \"Zero-to-Binder\" link on mybinder.org."
   ]
  },
  {
   "cell_type": "code",
   "execution_count": null,
   "id": "0377d143-15ca-4282-8af0-9b2ec17bc899",
   "metadata": {},
   "outputs": [],
   "source": []
  }
 ],
 "metadata": {
  "kernelspec": {
   "display_name": "Python 3 (ipykernel)",
   "language": "python",
   "name": "python3"
  },
  "language_info": {
   "codemirror_mode": {
    "name": "ipython",
    "version": 3
   },
   "file_extension": ".py",
   "mimetype": "text/x-python",
   "name": "python",
   "nbconvert_exporter": "python",
   "pygments_lexer": "ipython3",
   "version": "3.9.12"
  }
 },
 "nbformat": 4,
 "nbformat_minor": 5
}
