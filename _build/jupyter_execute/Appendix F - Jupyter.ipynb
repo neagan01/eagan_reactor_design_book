{
 "cells": [
  {
   "cell_type": "markdown",
   "id": "61532a2a",
   "metadata": {},
   "source": [
    "# Appendix F: Jupyter\n",
    "\n",
    "Disclaimer: I am by no means an expert with Jupyter Notebooks or coding for that matter. The following are my opinions as of August 2022.\n",
    "\n",
    "## Project Jupyter\n",
    "\n",
    "Sounds cool, right? The \"Ju\" references the \"Julia\" coding language, the \"Py\" references \"Python\" (which itself is a references to \"Monty Python\"), and \"Ter\" is a reference to \"R\" while also spelling out a cool word which is a reference to Galileo and his discovery of the Moons of Jupiter as detailed in his own (less-sophisticated) notebooks. https://jupyter.org/ \n",
    "\n",
    "## Literate programming\n",
    "\n",
    "Jupyter Notebook brings together code annotation cells in the \"Markdown\" format (how this was written), code cells, and code cell outputs all in one place. This type of programming is often called \"literate\" programming because it is easier to read. Compared to a collection of simple executable .py files, this form makes it easier to understand what everything in a code is, why it is, and what it does. This facilitates sharing of codes and ideas especially among those like me who use coding simply as one of many tools for their work (rather than a data scientist). Data scientists may find interpreting a code trivial and would never have the time to annotate tens of thousands of lines of code to our hundreds.\n",
    "\n",
    "## Notebook extensions\n",
    "\n",
    "When transitioning to a \"non-literate\" language, some \"debugging\" tools can be lost. Jupyter Notebook is currently missing a few ideal features that can be found with nb_extensions. Once downloaded, you can add some tweaks to your code. When I work I use the following:\n",
    "\n",
    "- Codefolding\n",
    "- Live Markdown Preview\n",
    "- Variable Inspector\n",
    "- Toggle all line numbers\n",
    "\n",
    "Most of these are fairly self-explanatory. At a later date I'll actually explain what they are. But I have a paper to submit. For now, you can get started by going to https://jupyter-contrib-nbextensions.readthedocs.io/en/latest/install.html \n",
    "\n",
    "Note that these features may have been built for an older version of Jupyter Notebooks than yours. So far I've been fine."
   ]
  },
  {
   "cell_type": "code",
   "execution_count": null,
   "id": "b2a88b10",
   "metadata": {},
   "outputs": [],
   "source": [
    "R"
   ]
  }
 ],
 "metadata": {
  "kernelspec": {
   "display_name": "Python 3 (ipykernel)",
   "language": "python",
   "name": "python3"
  },
  "language_info": {
   "codemirror_mode": {
    "name": "ipython",
    "version": 3
   },
   "file_extension": ".py",
   "mimetype": "text/x-python",
   "name": "python",
   "nbconvert_exporter": "python",
   "pygments_lexer": "ipython3",
   "version": "3.9.12"
  },
  "varInspector": {
   "cols": {
    "lenName": 16,
    "lenType": 16,
    "lenVar": 40
   },
   "kernels_config": {
    "python": {
     "delete_cmd_postfix": "",
     "delete_cmd_prefix": "del ",
     "library": "var_list.py",
     "varRefreshCmd": "print(var_dic_list())"
    },
    "r": {
     "delete_cmd_postfix": ") ",
     "delete_cmd_prefix": "rm(",
     "library": "var_list.r",
     "varRefreshCmd": "cat(var_dic_list()) "
    }
   },
   "types_to_exclude": [
    "module",
    "function",
    "builtin_function_or_method",
    "instance",
    "_Feature"
   ],
   "window_display": false
  }
 },
 "nbformat": 4,
 "nbformat_minor": 5
}